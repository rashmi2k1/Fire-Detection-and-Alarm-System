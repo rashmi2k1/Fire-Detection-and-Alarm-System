{
  "nbformat": 4,
  "nbformat_minor": 0,
  "metadata": {
    "colab": {
      "provenance": []
    },
    "kernelspec": {
      "name": "python3",
      "display_name": "Python 3"
    },
    "language_info": {
      "name": "python"
    }
  },
  "cells": [
    {
      "cell_type": "code",
      "metadata": {
        "colab": {
          "base_uri": "https://localhost:8080/"
        },
        "id": "sLPjYkTpcmPb",
        "outputId": "60e4f716-2fdc-4fc0-999b-fc4b9df5f1a4"
      },
      "source": [
        "server = smtplib.SMTP_SSL (\"smtp.gmail.com\", 465)\n",
        "\n",
        "server.login (\"xyz@gmail.com\", \"password\")\n",
        "\n",
        "server.sendmail(\"xyz@gmail.com\",\"abc@gmail.com\", \"Fire emercency project email working configuration\")\n",
        "\n",
        "server.quit()"
      ],
      "execution_count": null,
      "outputs": [
        {
          "output_type": "execute_result",
          "data": {
            "text/plain": [
              "(221, b'2.0.0 closing connection a6sm1443204vsd.33 - gsmtp')"
            ]
          },
          "metadata": {
            "tags": []
          },
          "execution_count": 18
        }
      ]
    },
    {
      "cell_type": "code",
      "metadata": {
        "id": "El-6EGzaSSa1"
      },
      "source": [
        "import smtplib\n",
        "from email.mime.image import MIMEImage\n",
        "from email.mime.text import MIMEText\n",
        "from email.mime.multipart import MIMEMultipart\n",
        "import datetime"
      ],
      "execution_count": null,
      "outputs": []
    },
    {
      "cell_type": "code",
      "metadata": {
        "colab": {
          "base_uri": "https://localhost:8080/"
        },
        "id": "04b0vY8YdkId",
        "outputId": "d994bb9d-beac-4fc0-e028-bacf2f1849ab"
      },
      "source": [
        "import ssl\n",
        "print(ssl.OPENSSL_VERSION)"
      ],
      "execution_count": null,
      "outputs": [
        {
          "output_type": "stream",
          "text": [
            "OpenSSL 1.1.1  11 Sep 2018\n"
          ],
          "name": "stdout"
        }
      ]
    },
    {
      "cell_type": "code",
      "metadata": {
        "id": "-QoZBHURhVH8"
      },
      "source": [
        "\n",
        "port = 587  # For starttls\n",
        "smtp_server = \"smtp.gmail.com\"\n",
        "sender_email = input(\"Type sender email press enter:\")\n",
        "receiver_email = input(\"Type receiver email press enter:\")\n",
        "password = input(\"Type your password and press enter:\")\n",
        "message = \"\"\"\\\n",
        "Subject: FIRE EMERCENCY \n",
        "\n",
        "Fire emercency project email working configuration.\"\"\"\n",
        "\n",
        "context = ssl.create_default_context()\n",
        "with smtplib.SMTP(smtp_server, port) as server:\n",
        "    server.ehlo()  # Can be omitted\n",
        "    server.starttls(context=context)\n",
        "    server.ehlo()  # Can be omitted\n",
        "    server.login(sender_email, password)\n",
        "    server.sendmail(sender_email, receiver_email, message)\n",
        "    print(\"Mail Sent\")"
      ],
      "execution_count": null,
      "outputs": []
    },
    {
      "cell_type": "code",
      "metadata": {
        "id": "UfllzegKhtX8"
      },
      "source": [],
      "execution_count": null,
      "outputs": []
    }
  ]
}