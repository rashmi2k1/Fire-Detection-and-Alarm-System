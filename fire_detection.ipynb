{
  "nbformat": 4,
  "nbformat_minor": 0,
  "metadata": {
    "colab": {
      "provenance": []
    },
    "kernelspec": {
      "display_name": "Python 3",
      "name": "python3"
    },
    "language_info": {
      "name": "python"
    }
  },
  "cells": [
    {
      "cell_type": "code",
      "metadata": {
        "id": "nxkurmCj0q_A"
      },
      "source": [
        "import tensorflow as tf\n",
        "import keras_preprocessing\n",
        "from keras_preprocessing import image\n",
        "from keras_preprocessing.image import ImageDataGenerator\n",
        "import shutil"
      ],
      "execution_count": null,
      "outputs": []
    },
    {
      "cell_type": "code",
      "metadata": {
        "colab": {
          "base_uri": "https://localhost:8080/"
        },
        "id": "0M1qCA_u1erJ",
        "outputId": "567c5808-58a2-4fd5-b769-7584c044ab9e"
      },
      "source": [
        "TRAINING_DIR = \"/content/drive/MyDrive/fire-detection-master/Datasets 1-2/Training\"\n",
        "\n",
        "training_datagen = ImageDataGenerator(rescale = 1./255,horizontal_flip=True,rotation_range=30,height_shift_range=0.2,fill_mode='nearest')\n",
        "\n",
        "VALIDATION_DIR = \"/content/drive/MyDrive/fire-detection-master/Datasets 1-2/Validation\"\n",
        "validation_datagen = ImageDataGenerator(rescale = 1./255)\n",
        "\n",
        "train_generator = training_datagen.flow_from_directory(TRAINING_DIR, target_size=(224,224), class_mode='categorical', batch_size = 64)\n",
        "\n",
        "validation_generator = validation_datagen.flow_from_directory(VALIDATION_DIR, target_size=(224,224), class_mode='categorical', batch_size= 16)\n",
        "\n"
      ],
      "execution_count": null,
      "outputs": [
        {
          "output_type": "stream",
          "text": [
            "Found 980 images belonging to 2 classes.\n",
            "Found 239 images belonging to 2 classes.\n"
          ],
          "name": "stdout"
        }
      ]
    },
    {
      "cell_type": "code",
      "metadata": {
        "colab": {
          "base_uri": "https://localhost:8080/"
        },
        "id": "qUT4gd9ztIFC",
        "outputId": "43dbd8c6-a1e1-40ca-f2f4-70af2b0c7b14"
      },
      "source": [
        "from google.colab import drive\n",
        "drive.mount('/content/drive')"
      ],
      "execution_count": null,
      "outputs": [
        {
          "output_type": "stream",
          "text": [
            "Drive already mounted at /content/drive; to attempt to forcibly remount, call drive.mount(\"/content/drive\", force_remount=True).\n"
          ],
          "name": "stdout"
        }
      ]
    },
    {
      "cell_type": "code",
      "metadata": {
        "colab": {
          "base_uri": "https://localhost:8080/"
        },
        "id": "JaErvK622PNz",
        "outputId": "4a9f1e43-7cff-4cb7-8c49-e93dac0dfeee"
      },
      "source": [
        "from tensorflow.keras.optimizers import RMSprop,Adam\n",
        "model = tf.keras.models.Sequential([\n",
        "          tf.keras.layers.Conv2D(96, (11,11), strides=(4,4), activation='relu', input_shape=(224, 224, 3)),\n",
        "          tf.keras.layers.MaxPooling2D(pool_size = (3,3), strides=(2,2)),\n",
        "          tf.keras.layers.Conv2D(256, (5,5), activation='relu'),\n",
        "          tf.keras.layers.MaxPooling2D(pool_size = (3,3), strides=(2,2)),\n",
        "          tf.keras.layers.Conv2D(384, (5,5), activation='relu'),\n",
        "          tf.keras.layers.MaxPooling2D(pool_size = (3,3), strides=(2,2)),\n",
        "          tf.keras.layers.Flatten(),\n",
        "          tf.keras.layers.Dropout(0.2),\n",
        "          tf.keras.layers.Dense(2048, activation='relu'),\n",
        "          tf.keras.layers.Dropout(0.25),\n",
        "          tf.keras.layers.Dense(1024, activation='relu'),\n",
        "          tf.keras.layers.Dropout(0.2),\n",
        "          tf.keras.layers.Dense(2, activation='softmax')\n",
        "])\n",
        "model.compile(loss='categorical_crossentropy', optimizer=Adam(lr=0.0001), metrics=['acc'])\n",
        "model.summary()"
      ],
      "execution_count": null,
      "outputs": [
        {
          "output_type": "stream",
          "text": [
            "Model: \"sequential\"\n",
            "_________________________________________________________________\n",
            "Layer (type)                 Output Shape              Param #   \n",
            "=================================================================\n",
            "conv2d (Conv2D)              (None, 54, 54, 96)        34944     \n",
            "_________________________________________________________________\n",
            "max_pooling2d (MaxPooling2D) (None, 26, 26, 96)        0         \n",
            "_________________________________________________________________\n",
            "conv2d_1 (Conv2D)            (None, 22, 22, 256)       614656    \n",
            "_________________________________________________________________\n",
            "max_pooling2d_1 (MaxPooling2 (None, 10, 10, 256)       0         \n",
            "_________________________________________________________________\n",
            "conv2d_2 (Conv2D)            (None, 6, 6, 384)         2457984   \n",
            "_________________________________________________________________\n",
            "max_pooling2d_2 (MaxPooling2 (None, 2, 2, 384)         0         \n",
            "_________________________________________________________________\n",
            "flatten (Flatten)            (None, 1536)              0         \n",
            "_________________________________________________________________\n",
            "dropout (Dropout)            (None, 1536)              0         \n",
            "_________________________________________________________________\n",
            "dense (Dense)                (None, 2048)              3147776   \n",
            "_________________________________________________________________\n",
            "dropout_1 (Dropout)          (None, 2048)              0         \n",
            "_________________________________________________________________\n",
            "dense_1 (Dense)              (None, 1024)              2098176   \n",
            "_________________________________________________________________\n",
            "dropout_2 (Dropout)          (None, 1024)              0         \n",
            "_________________________________________________________________\n",
            "dense_2 (Dense)              (None, 2)                 2050      \n",
            "=================================================================\n",
            "Total params: 8,355,586\n",
            "Trainable params: 8,355,586\n",
            "Non-trainable params: 0\n",
            "_________________________________________________________________\n"
          ],
          "name": "stdout"
        }
      ]
    },
    {
      "cell_type": "code",
      "metadata": {
        "colab": {
          "base_uri": "https://localhost:8080/"
        },
        "id": "46V9b_KU2XPh",
        "outputId": "8315232a-414a-47b7-be73-92a68e52f4c0"
      },
      "source": [
        "# class myCallback(tf.keras.callbacks.Callback):\n",
        "#   def on_epoch_end(self, epoch, logs={}):\n",
        "#     if(logs.get('val_acc')>=0.98):\n",
        "#       print('\\nReached ^98%')\n",
        "#       self.model.stop_training = True\n",
        "# callbacks = myCallback()\n",
        "\n",
        "history = model.fit(train_generator, steps_per_epoch = 15, epochs = 50, validation_data = validation_generator,     validation_steps = 15\n",
        "    #callbacks=[callbacks]\n",
        ")"
      ],
      "execution_count": null,
      "outputs": [
        {
          "output_type": "stream",
          "text": [
            "Epoch 1/50\n",
            "15/15 [==============================] - 645s 45s/step - loss: 0.6161 - acc: 0.6929 - val_loss: 0.4648 - val_acc: 0.7280\n",
            "Epoch 2/50\n",
            "15/15 [==============================] - 72s 5s/step - loss: 0.3941 - acc: 0.7926 - val_loss: 0.2643 - val_acc: 0.9121\n",
            "Epoch 3/50\n",
            "15/15 [==============================] - 72s 5s/step - loss: 0.2972 - acc: 0.8773 - val_loss: 0.2710 - val_acc: 0.8954\n",
            "Epoch 4/50\n",
            "15/15 [==============================] - 72s 5s/step - loss: 0.2777 - acc: 0.8900 - val_loss: 0.2136 - val_acc: 0.9331\n",
            "Epoch 5/50\n",
            "15/15 [==============================] - 72s 5s/step - loss: 0.2243 - acc: 0.9153 - val_loss: 0.2145 - val_acc: 0.9331\n",
            "Epoch 6/50\n",
            "15/15 [==============================] - 73s 5s/step - loss: 0.2147 - acc: 0.9230 - val_loss: 0.2011 - val_acc: 0.9372\n",
            "Epoch 7/50\n",
            "15/15 [==============================] - 71s 5s/step - loss: 0.2141 - acc: 0.9103 - val_loss: 0.2154 - val_acc: 0.9414\n",
            "Epoch 8/50\n",
            "15/15 [==============================] - 71s 5s/step - loss: 0.1936 - acc: 0.9290 - val_loss: 0.1988 - val_acc: 0.9372\n",
            "Epoch 9/50\n",
            "15/15 [==============================] - 71s 5s/step - loss: 0.1898 - acc: 0.9187 - val_loss: 0.4437 - val_acc: 0.8410\n",
            "Epoch 10/50\n",
            "15/15 [==============================] - 71s 5s/step - loss: 0.2653 - acc: 0.8975 - val_loss: 0.1816 - val_acc: 0.9372\n",
            "Epoch 11/50\n",
            "15/15 [==============================] - 72s 5s/step - loss: 0.1774 - acc: 0.9416 - val_loss: 0.2156 - val_acc: 0.9205\n",
            "Epoch 12/50\n",
            "15/15 [==============================] - 75s 5s/step - loss: 0.1948 - acc: 0.9174 - val_loss: 0.1640 - val_acc: 0.9414\n",
            "Epoch 13/50\n",
            "15/15 [==============================] - 73s 5s/step - loss: 0.1679 - acc: 0.9343 - val_loss: 0.2401 - val_acc: 0.9289\n",
            "Epoch 14/50\n",
            "15/15 [==============================] - 73s 5s/step - loss: 0.2036 - acc: 0.9254 - val_loss: 0.1739 - val_acc: 0.9289\n",
            "Epoch 15/50\n",
            "15/15 [==============================] - 73s 5s/step - loss: 0.1868 - acc: 0.9284 - val_loss: 0.1728 - val_acc: 0.9414\n",
            "Epoch 16/50\n",
            "15/15 [==============================] - 72s 5s/step - loss: 0.1595 - acc: 0.9381 - val_loss: 0.1437 - val_acc: 0.9498\n",
            "Epoch 17/50\n",
            "15/15 [==============================] - 73s 5s/step - loss: 0.1427 - acc: 0.9411 - val_loss: 0.1598 - val_acc: 0.9498\n",
            "Epoch 18/50\n",
            "15/15 [==============================] - 73s 5s/step - loss: 0.1206 - acc: 0.9541 - val_loss: 0.1833 - val_acc: 0.9414\n",
            "Epoch 19/50\n",
            "15/15 [==============================] - 74s 5s/step - loss: 0.1567 - acc: 0.9431 - val_loss: 0.1472 - val_acc: 0.9456\n",
            "Epoch 20/50\n",
            "15/15 [==============================] - 72s 5s/step - loss: 0.1478 - acc: 0.9522 - val_loss: 0.1552 - val_acc: 0.9456\n",
            "Epoch 21/50\n",
            "15/15 [==============================] - 78s 5s/step - loss: 0.1859 - acc: 0.9287 - val_loss: 0.2197 - val_acc: 0.9247\n",
            "Epoch 22/50\n",
            "15/15 [==============================] - 73s 5s/step - loss: 0.1872 - acc: 0.9318 - val_loss: 0.1582 - val_acc: 0.9414\n",
            "Epoch 23/50\n",
            "15/15 [==============================] - 73s 5s/step - loss: 0.1381 - acc: 0.9553 - val_loss: 0.2004 - val_acc: 0.9414\n",
            "Epoch 24/50\n",
            "15/15 [==============================] - 73s 5s/step - loss: 0.1263 - acc: 0.9559 - val_loss: 0.1665 - val_acc: 0.9498\n",
            "Epoch 25/50\n",
            "15/15 [==============================] - 72s 5s/step - loss: 0.1209 - acc: 0.9643 - val_loss: 0.1482 - val_acc: 0.9540\n",
            "Epoch 26/50\n",
            "15/15 [==============================] - 73s 5s/step - loss: 0.1253 - acc: 0.9529 - val_loss: 0.1380 - val_acc: 0.9540\n",
            "Epoch 27/50\n",
            "15/15 [==============================] - 72s 5s/step - loss: 0.1284 - acc: 0.9606 - val_loss: 0.1484 - val_acc: 0.9540\n",
            "Epoch 28/50\n",
            "15/15 [==============================] - 73s 5s/step - loss: 0.1364 - acc: 0.9546 - val_loss: 0.1641 - val_acc: 0.9498\n",
            "Epoch 29/50\n",
            "15/15 [==============================] - 72s 5s/step - loss: 0.1084 - acc: 0.9627 - val_loss: 0.1679 - val_acc: 0.9414\n",
            "Epoch 30/50\n",
            "15/15 [==============================] - 72s 5s/step - loss: 0.1326 - acc: 0.9534 - val_loss: 0.1515 - val_acc: 0.9540\n",
            "Epoch 31/50\n",
            "15/15 [==============================] - 72s 5s/step - loss: 0.1189 - acc: 0.9550 - val_loss: 0.1616 - val_acc: 0.9540\n",
            "Epoch 32/50\n",
            "15/15 [==============================] - 72s 5s/step - loss: 0.1109 - acc: 0.9661 - val_loss: 0.1810 - val_acc: 0.9414\n",
            "Epoch 33/50\n",
            "15/15 [==============================] - 72s 5s/step - loss: 0.1235 - acc: 0.9534 - val_loss: 0.1345 - val_acc: 0.9456\n",
            "Epoch 34/50\n",
            "15/15 [==============================] - 72s 5s/step - loss: 0.1172 - acc: 0.9475 - val_loss: 0.1452 - val_acc: 0.9498\n",
            "Epoch 35/50\n",
            "15/15 [==============================] - 73s 5s/step - loss: 0.0951 - acc: 0.9755 - val_loss: 0.1539 - val_acc: 0.9372\n",
            "Epoch 36/50\n",
            "15/15 [==============================] - 73s 5s/step - loss: 0.1309 - acc: 0.9564 - val_loss: 0.1325 - val_acc: 0.9540\n",
            "Epoch 37/50\n",
            "15/15 [==============================] - 72s 5s/step - loss: 0.1043 - acc: 0.9568 - val_loss: 0.1453 - val_acc: 0.9498\n",
            "Epoch 38/50\n",
            "15/15 [==============================] - 72s 5s/step - loss: 0.0799 - acc: 0.9690 - val_loss: 0.1147 - val_acc: 0.9582\n",
            "Epoch 39/50\n",
            "15/15 [==============================] - 73s 5s/step - loss: 0.0910 - acc: 0.9696 - val_loss: 0.1269 - val_acc: 0.9540\n",
            "Epoch 40/50\n",
            "15/15 [==============================] - 74s 5s/step - loss: 0.1272 - acc: 0.9524 - val_loss: 0.1337 - val_acc: 0.9582\n",
            "Epoch 41/50\n",
            "15/15 [==============================] - 75s 5s/step - loss: 0.1089 - acc: 0.9680 - val_loss: 0.1317 - val_acc: 0.9582\n",
            "Epoch 42/50\n",
            "15/15 [==============================] - 73s 5s/step - loss: 0.1169 - acc: 0.9590 - val_loss: 0.1512 - val_acc: 0.9582\n",
            "Epoch 43/50\n",
            "15/15 [==============================] - 74s 5s/step - loss: 0.0964 - acc: 0.9680 - val_loss: 0.1494 - val_acc: 0.9498\n",
            "Epoch 44/50\n",
            "15/15 [==============================] - 75s 5s/step - loss: 0.1005 - acc: 0.9685 - val_loss: 0.1331 - val_acc: 0.9498\n",
            "Epoch 45/50\n",
            "15/15 [==============================] - 74s 5s/step - loss: 0.1056 - acc: 0.9553 - val_loss: 0.1704 - val_acc: 0.9414\n",
            "Epoch 46/50\n",
            "15/15 [==============================] - 75s 5s/step - loss: 0.1188 - acc: 0.9660 - val_loss: 0.1470 - val_acc: 0.9540\n",
            "Epoch 47/50\n",
            "15/15 [==============================] - 74s 5s/step - loss: 0.0877 - acc: 0.9680 - val_loss: 0.1414 - val_acc: 0.9582\n",
            "Epoch 48/50\n",
            "15/15 [==============================] - 73s 5s/step - loss: 0.0949 - acc: 0.9717 - val_loss: 0.2181 - val_acc: 0.9372\n",
            "Epoch 49/50\n",
            "15/15 [==============================] - 74s 5s/step - loss: 0.1048 - acc: 0.9685 - val_loss: 0.1321 - val_acc: 0.9456\n",
            "Epoch 50/50\n",
            "15/15 [==============================] - 74s 5s/step - loss: 0.0869 - acc: 0.9651 - val_loss: 0.1216 - val_acc: 0.9623\n"
          ],
          "name": "stdout"
        }
      ]
    },
    {
      "cell_type": "code",
      "metadata": {
        "colab": {
          "base_uri": "https://localhost:8080/",
          "height": 859
        },
        "id": "96n_sOGb3qUp",
        "outputId": "70c9ebb6-17b3-4a5b-eca4-19f35b15c36d"
      },
      "source": [
        "%matplotlib inline\n",
        "import matplotlib.pyplot as plt\n",
        "acc = history.history['acc']\n",
        "val_acc = history.history['val_acc']\n",
        "loss = history.history['loss']\n",
        "val_loss = history.history['val_loss']\n",
        "\n",
        "epochs = range(len(acc))\n",
        "\n",
        "# The training set is used to train the model\n",
        "plt.plot(epochs, acc, 'g', label='Training accuracy')\n",
        "plt.title('Training accuracy')\n",
        "plt.legend(loc=0)\n",
        "plt.figure()\n",
        "plt.show()\n",
        "\n",
        "# validation set is only used to evaluate the model's performance\n",
        "plt.plot(epochs, val_acc, 'b', label='Validation accuracy')\n",
        "plt.title('validation accuracy')\n",
        "plt.legend(loc=0)\n",
        "plt.figure()\n",
        "plt.show()\n",
        "\n",
        "# the loss during training and validation process\n",
        "plt.plot(epochs, loss, 'r', label='Training loss')\n",
        "plt.plot(epochs, val_loss, 'orange', label='Validation loss')\n",
        "plt.title('Training and validation loss')\n",
        "\n",
        "plt.legend(loc=0)\n",
        "plt.figure()\n",
        "plt.show()"
      ],
      "execution_count": null,
      "outputs": [
        {
          "output_type": "display_data",
          "data": {
            "image/png": "[encoded data removed]",
            "text/plain": [
              "<Figure size 432x288 with 1 Axes>"
            ]
          },
          "metadata": {
            "tags": [],
            "needs_background": "light"
          }
        },
        {
          "output_type": "display_data",
          "data": {
            "text/plain": [
              "<Figure size 432x288 with 0 Axes>"
            ]
          },
          "metadata": {
            "tags": []
          }
        },
        {
          "output_type": "display_data",
          "data": {
            "image/png": "[encoded data removed]",
            "text/plain": [
              "<Figure size 432x288 with 1 Axes>"
            ]
          },
          "metadata": {
            "tags": [],
            "needs_background": "light"
          }
        },
        {
          "output_type": "display_data",
          "data": {
            "text/plain": [
              "<Figure size 432x288 with 0 Axes>"
            ]
          },
          "metadata": {
            "tags": []
          }
        },
        {
          "output_type": "display_data",
          "data": {
            "image/png": "[encoded data removed]",
            "text/plain": [
              "<Figure size 432x288 with 1 Axes>"
            ]
          },
          "metadata": {
            "tags": [],
            "needs_background": "light"
          }
        },
        {
          "output_type": "display_data",
          "data": {
            "text/plain": [
              "<Figure size 432x288 with 0 Axes>"
            ]
          },
          "metadata": {
            "tags": []
          }
        }
      ]
    },
    {
      "cell_type": "markdown",
      "metadata": {
        "id": "BIEc0reMWatw"
      },
      "source": [
        "Predicting any random image"
      ]
    },
    {
      "cell_type": "code",
      "metadata": {
        "id": "gdhbpevEWeG5"
      },
      "source": [
        "import numpy as np\n",
        "from google.colab import files\n",
        "from keras.preprocessing import image"
      ],
      "execution_count": null,
      "outputs": []
    },
    {
      "cell_type": "code",
      "metadata": {
        "id": "ZHoeigmC38AI"
      },
      "source": [
        "uploaded = files.upload()\n",
        "for fn in uploaded.keys():\n",
        "  path = '/content/' + fn\n",
        "  img = image.load_img(path, target_size=(224, 224))\n",
        "  x = image.img_to_array(img)\n",
        "  x = np.expand_dims(x, axis=0) /255\n",
        "  classes = model.predict(x)\n",
        "  print(np.argmax(classes[0])==0, max(classes[0]))\n",
        "  "
      ],
      "execution_count": null,
      "outputs": []
    },
    {
      "cell_type": "markdown",
      "metadata": {
        "id": "sICzC8hp4av8"
      },
      "source": [
        "Creating customized InceptionV3 model"
      ]
    },
    {
      "cell_type": "code",
      "metadata": {
        "colab": {
          "base_uri": "https://localhost:8080/"
        },
        "id": "atl8JPvz6F1C",
        "outputId": "6eea50a3-f4f1-4d00-d025-3e3b0501216d"
      },
      "source": [
        "TRAINING_DIR = '/content/drive/MyDrive/Dataset 3/Train'\n",
        "\n",
        "training_datagen = ImageDataGenerator(rescale=1./255, zoom_range=0.15, horizontal_flip=True, fill_mode='nearest')\n",
        "\n",
        "VALIDATION_DIR = '/content/drive/MyDrive/Dataset 3/Test'\n",
        "validation_datagen = ImageDataGenerator(rescale = 1./255)\n",
        "\n",
        "train_generator = training_datagen.flow_from_directory(TRAINING_DIR, target_size=(224,224), shuffle = True, class_mode='categorical',  batch_size = 128)\n",
        "\n",
        "validation_generator = validation_datagen.flow_from_directory(VALIDATION_DIR, target_size=(224,224), class_mode='categorical', shuffle = True, batch_size= 14)"
      ],
      "execution_count": null,
      "outputs": [
        {
          "output_type": "stream",
          "text": [
            "Found 1801 images belonging to 2 classes.\n",
            "Found 200 images belonging to 2 classes.\n"
          ],
          "name": "stdout"
        }
      ]
    },
    {
      "cell_type": "code",
      "metadata": {
        "id": "MboH_zDD8ecw"
      },
      "source": [
        "from tensorflow.keras.applications.inception_v3 import InceptionV3\n",
        "from tensorflow.keras.preprocessing import image\n",
        "from tensorflow.keras.models import Model\n",
        "from tensorflow.keras.layers import Dense, GlobalAveragePooling2D, Input, Dropout"
      ],
      "execution_count": null,
      "outputs": []
    },
    {
      "cell_type": "code",
      "metadata": {
        "id": "lcfgxDc-6LAQ"
      },
      "source": [
        "input_tensor = Input(shape=(224, 224, 3))\n",
        "\n",
        "base_model = InceptionV3(input_tensor=input_tensor, weights='imagenet', include_top=False)\n",
        "\n",
        "# add a global spatial average pooling layer\n",
        "x = base_model.output\n",
        "x = GlobalAveragePooling2D()(x)\n",
        "# add a fully-connected layer\n",
        "x = Dense(2048, activation='relu')(x)\n",
        "x = Dropout(0.25)(x)\n",
        "# output layer\n",
        "x = Dense(1024, activation='relu')(x)\n",
        "x = Dropout(0.2)(x)\n",
        "predictions = Dense(2, activation='softmax')(x)\n",
        "# model\n",
        "model = Model(inputs=base_model.input, outputs=predictions)\n",
        "\n",
        "for layer in base_model.layers:\n",
        "    layer.trainable = False\n",
        "\n",
        "model.compile(optimizer='rmsprop', loss='categorical_crossentropy', metrics=['acc'])"
      ],
      "execution_count": null,
      "outputs": []
    },
    {
      "cell_type": "code",
      "metadata": {
        "colab": {
          "base_uri": "https://localhost:8080/"
        },
        "id": "E1zUCiVm6TnM",
        "outputId": "ad142e29-7a73-4e51-9031-e146181cb6d1"
      },
      "source": [
        "class myCallback(tf.keras.callbacks.Callback):\n",
        "  def on_epoch_end(self, epoch, logs={}):\n",
        "    if(logs.get('val_loss')<0.1100 and logs.get('loss')<0.1100):\n",
        "      print('\\n\\n Reached The Destination!')\n",
        "      self.model.stop_training = True\n",
        "callbacks = myCallback()\n",
        "\n",
        "history = model.fit(\n",
        "    train_generator,steps_per_epoch = 14,epochs = 20,validation_data = validation_generator, validation_steps = 14)"
      ],
      "execution_count": null,
      "outputs": [
        {
          "output_type": "stream",
          "text": [
            "Epoch 1/20\n",
            "14/14 [==============================] - 162s 11s/step - loss: 0.0489 - acc: 0.9845 - val_loss: 0.1927 - val_acc: 0.9592\n",
            "Epoch 2/20\n",
            "14/14 [==============================] - 162s 11s/step - loss: 0.0371 - acc: 0.9898 - val_loss: 0.1622 - val_acc: 0.9592\n",
            "Epoch 3/20\n",
            "14/14 [==============================] - 171s 12s/step - loss: 0.0532 - acc: 0.9833 - val_loss: 0.1450 - val_acc: 0.9796\n",
            "Epoch 4/20\n",
            "14/14 [==============================] - 161s 11s/step - loss: 0.0279 - acc: 0.9940 - val_loss: 0.2086 - val_acc: 0.9745\n",
            "Epoch 5/20\n",
            "14/14 [==============================] - 161s 11s/step - loss: 0.0471 - acc: 0.9857 - val_loss: 1.0179 - val_acc: 0.7959\n",
            "Epoch 6/20\n",
            "14/14 [==============================] - 170s 12s/step - loss: 0.1538 - acc: 0.9721 - val_loss: 0.1499 - val_acc: 0.9694\n",
            "Epoch 7/20\n",
            "14/14 [==============================] - 175s 12s/step - loss: 0.0021 - acc: 1.0000 - val_loss: 0.3332 - val_acc: 0.9592\n",
            "Epoch 8/20\n",
            "14/14 [==============================] - 161s 11s/step - loss: 0.5258 - acc: 0.9534 - val_loss: 0.0914 - val_acc: 0.9745\n",
            "Epoch 9/20\n",
            "14/14 [==============================] - 162s 11s/step - loss: 0.0123 - acc: 0.9934 - val_loss: 0.1648 - val_acc: 0.9694\n",
            "Epoch 10/20\n",
            "14/14 [==============================] - 161s 11s/step - loss: 0.0143 - acc: 0.9952 - val_loss: 0.1609 - val_acc: 0.9694\n",
            "Epoch 11/20\n",
            "14/14 [==============================] - 162s 11s/step - loss: 0.0558 - acc: 0.9797 - val_loss: 0.5062 - val_acc: 0.8929\n",
            "Epoch 12/20\n",
            "14/14 [==============================] - 162s 12s/step - loss: 0.0188 - acc: 0.9898 - val_loss: 0.4244 - val_acc: 0.9286\n",
            "Epoch 13/20\n",
            "14/14 [==============================] - 163s 12s/step - loss: 0.0780 - acc: 0.9874 - val_loss: 0.1716 - val_acc: 0.9592\n",
            "Epoch 14/20\n",
            "14/14 [==============================] - 163s 12s/step - loss: 0.0301 - acc: 0.9904 - val_loss: 0.1321 - val_acc: 0.9592\n",
            "Epoch 15/20\n",
            "14/14 [==============================] - 163s 12s/step - loss: 0.0516 - acc: 0.9839 - val_loss: 0.1567 - val_acc: 0.9796\n",
            "Epoch 16/20\n",
            "14/14 [==============================] - 164s 12s/step - loss: 0.0802 - acc: 0.9821 - val_loss: 0.1244 - val_acc: 0.9745\n",
            "Epoch 17/20\n",
            "14/14 [==============================] - 166s 12s/step - loss: 0.0080 - acc: 0.9964 - val_loss: 0.4199 - val_acc: 0.9541\n",
            "Epoch 18/20\n",
            "14/14 [==============================] - 166s 12s/step - loss: 0.1011 - acc: 0.9803 - val_loss: 0.1294 - val_acc: 0.9796\n",
            "Epoch 19/20\n",
            "14/14 [==============================] - 165s 12s/step - loss: 0.0118 - acc: 0.9952 - val_loss: 0.2221 - val_acc: 0.9592\n",
            "Epoch 20/20\n",
            "14/14 [==============================] - 166s 12s/step - loss: 0.0621 - acc: 0.9928 - val_loss: 0.3234 - val_acc: 0.9031\n"
          ],
          "name": "stdout"
        }
      ]
    },
    {
      "cell_type": "code",
      "metadata": {
        "colab": {
          "base_uri": "https://localhost:8080/"
        },
        "id": "xPk70hPe6ZGj",
        "outputId": "3d3a8dad-b432-40a6-8c19-b62b28907178"
      },
      "source": [
        "for layer in model.layers[:249]:\n",
        "   layer.trainable = False\n",
        "for layer in model.layers[249:]:\n",
        "   layer.trainable = True\n",
        "\n",
        "from tensorflow.keras.optimizers import SGD\n",
        "model.compile(optimizer=SGD(lr=0.0001, momentum=0.9), loss='categorical_crossentropy', metrics=['acc'])\n",
        "\n",
        "\n",
        "class myCallback(tf.keras.callbacks.Callback):\n",
        "  def on_epoch_end(self, epoch, logs={}):\n",
        "    if(logs.get('val_loss')<=0.1099 and logs.get('loss')<=0.1099):\n",
        "      print('\\n\\n Reached The Destination!')\n",
        "      self.model.stop_training = True\n",
        "callbacks = myCallback()\n",
        "\n",
        "history = model.fit(train_generator, steps_per_epoch = 14, epochs = 10, validation_data = validation_generator, validation_steps = 14)\n",
        "print(len(base_model.layers))"
      ],
      "execution_count": null,
      "outputs": [
        {
          "output_type": "stream",
          "text": [
            "Epoch 1/10\n",
            "14/14 [==============================] - 227s 16s/step - loss: 0.1037 - acc: 0.9548 - val_loss: 0.3014 - val_acc: 0.9388\n",
            "Epoch 2/10\n",
            "14/14 [==============================] - 212s 15s/step - loss: 0.0782 - acc: 0.9707 - val_loss: 0.2251 - val_acc: 0.9439\n",
            "Epoch 3/10\n",
            "14/14 [==============================] - 214s 15s/step - loss: 0.0662 - acc: 0.9743 - val_loss: 0.1787 - val_acc: 0.9592\n",
            "Epoch 4/10\n",
            "14/14 [==============================] - 210s 16s/step - loss: 0.0763 - acc: 0.9709 - val_loss: 0.1502 - val_acc: 0.9643\n",
            "Epoch 5/10\n",
            "14/14 [==============================] - 215s 15s/step - loss: 0.0778 - acc: 0.9680 - val_loss: 0.1401 - val_acc: 0.9592\n",
            "Epoch 6/10\n",
            "14/14 [==============================] - 217s 15s/step - loss: 0.0689 - acc: 0.9790 - val_loss: 0.1296 - val_acc: 0.9592\n",
            "Epoch 7/10\n",
            "14/14 [==============================] - 211s 15s/step - loss: 0.0628 - acc: 0.9793 - val_loss: 0.1265 - val_acc: 0.9592\n",
            "Epoch 8/10\n",
            "14/14 [==============================] - 217s 15s/step - loss: 0.0500 - acc: 0.9839 - val_loss: 0.1208 - val_acc: 0.9592\n",
            "Epoch 9/10\n",
            "14/14 [==============================] - 212s 15s/step - loss: 0.0458 - acc: 0.9872 - val_loss: 0.1183 - val_acc: 0.9592\n",
            "Epoch 10/10\n",
            "14/14 [==============================] - 214s 15s/step - loss: 0.0567 - acc: 0.9752 - val_loss: 0.1159 - val_acc: 0.9541\n",
            "311\n"
          ],
          "name": "stdout"
        }
      ]
    },
    {
      "cell_type": "code",
      "metadata": {
        "colab": {
          "base_uri": "https://localhost:8080/",
          "height": 578
        },
        "id": "EN9lieay6dpb",
        "outputId": "34ceb181-d2ee-456c-90f9-d095c6a05a12"
      },
      "source": [
        "\n",
        "\n",
        "%matplotlib inline\n",
        "import matplotlib.pyplot as plt\n",
        "acc = history.history['acc']\n",
        "val_acc = history.history['val_acc']\n",
        "loss = history.history['loss']\n",
        "val_loss = history.history['val_loss']\n",
        "\n",
        "epochs = range(len(acc))\n",
        "\n",
        "plt.plot(epochs, acc, 'g', label='Training accuracy')\n",
        "plt.plot(epochs, val_acc, 'b', label='Validation accuracy')\n",
        "plt.title('Training and validation accuracy')\n",
        "\n",
        "plt.legend(loc=0)\n",
        "plt.figure()\n",
        "plt.show()\n",
        "\n",
        "plt.plot(epochs, loss, 'r', label='Training loss')\n",
        "plt.plot(epochs, val_loss, 'orange', label='Validation loss')\n",
        "plt.title('Training and validation loss')\n",
        "\n",
        "plt.legend(loc=0)\n",
        "plt.figure()\n",
        "plt.show()\n",
        "flag = 1"
      ],
      "execution_count": null,
      "outputs": [
        {
          "output_type": "display_data",
          "data": {
            "image/png": "[encoded data removed]",
            "text/plain": [
              "<Figure size 432x288 with 1 Axes>"
            ]
          },
          "metadata": {
            "tags": [],
            "needs_background": "light"
          }
        },
        {
          "output_type": "display_data",
          "data": {
            "text/plain": [
              "<Figure size 432x288 with 0 Axes>"
            ]
          },
          "metadata": {
            "tags": []
          }
        },
        {
          "output_type": "display_data",
          "data": {
            "image/png": "[encoded data removed]",
            "text/plain": [
              "<Figure size 432x288 with 1 Axes>"
            ]
          },
          "metadata": {
            "tags": [],
            "needs_background": "light"
          }
        },
        {
          "output_type": "display_data",
          "data": {
            "text/plain": [
              "<Figure size 432x288 with 0 Axes>"
            ]
          },
          "metadata": {
            "tags": []
          }
        }
      ]
    },
    {
      "cell_type": "markdown",
      "metadata": {
        "id": "yrhXuQ4d8mLW"
      },
      "source": [
        "Predicting any random image"
      ]
    },
    {
      "cell_type": "code",
      "metadata": {
        "id": "DHtKM-WzdVFs"
      },
      "source": [
        "flag = 1"
      ],
      "execution_count": null,
      "outputs": []
    },
    {
      "cell_type": "code",
      "metadata": {
        "id": "oDHwPOek8j-8"
      },
      "source": [
        "import numpy as np\n",
        "from google.colab import files\n",
        "from keras.preprocessing import image"
      ],
      "execution_count": null,
      "outputs": []
    },
    {
      "cell_type": "code",
      "metadata": {
        "id": "EjCRddiEYARz"
      },
      "source": [
        "def alert():\n",
        "    mixer.init()\n",
        "    alert = mixer.Sound('/content/WhatsApp Audio 2021-05-03 at 11.40.17 PM.mpeg')\n",
        "    alert.play()\n",
        "    time.sleep(0.1)\n",
        "    alert.play()"
      ],
      "execution_count": null,
      "outputs": []
    },
    {
      "cell_type": "code",
      "metadata": {
        "id": "nrMOwc7Y6ju-"
      },
      "source": [
        "uploaded = files.upload()\n",
        "for fn in uploaded.keys():\n",
        "  path = '/content/' + fn\n",
        "  img = image.load_img(path, target_size=(224, 224))\n",
        "  x = image.img_to_array(img)\n",
        "  x = np.expand_dims(x, axis=0) /255\n",
        "  classes = model.predict(x)\n",
        "  print(np.argmax(classes[0])==0, max(classes[0])) \n",
        "  alert();"
      ],
      "execution_count": null,
      "outputs": []
    },
    {
      "cell_type": "markdown",
      "metadata": {
        "id": "a1g-WPNCY8A9"
      },
      "source": [
        "E mail "
      ]
    },
    {
      "cell_type": "code",
      "metadata": {
        "id": "sP2Vs7N_XyrI"
      },
      "source": [
        "import smtplib\n",
        "from email.mime.image import MIMEImage\n",
        "from email.mime.text import MIMEText\n",
        "from email.mime.multipart import MIMEMultipart\n",
        "import datetime"
      ],
      "execution_count": null,
      "outputs": []
    },
    {
      "cell_type": "code",
      "metadata": {
        "id": "f2C_rI4HZH_f",
        "colab": {
          "base_uri": "https://localhost:8080/"
        },
        "outputId": "42202398-27ba-4170-cbf5-2150af37574b"
      },
      "source": [
        "import ssl\n",
        "print(ssl.OPENSSL_VERSION)"
      ],
      "execution_count": null,
      "outputs": [
        {
          "output_type": "stream",
          "text": [
            "OpenSSL 1.1.1  11 Sep 2018\n"
          ],
          "name": "stdout"
        }
      ]
    },
    {
      "cell_type": "code",
      "metadata": {
        "id": "6K_fGX-zZKJM"
      },
      "source": [
        "if (flag ==1):\n",
        "  port = 587  # For starttls\n",
        "  smtp_server = \"smtp.gmail.com\"\n",
        "  sender_email = input(\"Type sender email press enter:\")\n",
        "  receiver_email = input(\"Type receiver email press enter:\")\n",
        "  password = input(\"Type your password and press enter:\")\n",
        "  message = \"\"\"\\\n",
        "  Subject: FIRE EMERCENCY \n",
        "\n",
        "  Fire emercency project email working configuration.\"\"\"\n",
        "\n",
        "  context = ssl.create_default_context()\n",
        "  with smtplib.SMTP(smtp_server, port) as server:\n",
        "      server.ehlo()  # Can be omitted\n",
        "      server.starttls(context=context)\n",
        "      server.ehlo()  # Can be omitted\n",
        "      server.login(sender_email, password)\n",
        "      server.sendmail(sender_email, receiver_email, message)\n",
        "      print(\"Mail Sent\")"
      ],
      "execution_count": null,
      "outputs": []
    },
    {
      "cell_type": "code",
      "metadata": {
        "id": "frWGObivdZul"
      },
      "source": [],
      "execution_count": null,
      "outputs": []
    }
  ]
}